{
 "cells": [
  {
   "cell_type": "code",
   "execution_count": null,
   "id": "b6073abf-b254-4bd9-a42f-4c14d05d3c0e",
   "metadata": {},
   "outputs": [],
   "source": [
    "Q.no 1- Who developed the python programming Language ?\n",
    "Ans - This Language was develop by Guido van Rossum."
   ]
  },
  {
   "cell_type": "code",
   "execution_count": null,
   "id": "bc90c903-9744-4d81-b5bd-fe3a4c577b21",
   "metadata": {},
   "outputs": [],
   "source": [
    "Q.no 2- Which type of Programming does Python Support?\n",
    "Ans -  Python is an Interpreted programming language,Supporting object oriented,Structured,and functional programming."
   ]
  },
  {
   "cell_type": "code",
   "execution_count": null,
   "id": "314c8a39-5054-47a8-a0c2-b408c58de95e",
   "metadata": {},
   "outputs": [],
   "source": [
    "Q.no 3- Is Python case sensitive when dealing with identifiers?\n",
    "Ans- Yes Python is case sensitive Language. It treat uppercase and Lowercase character differently."
   ]
  },
  {
   "cell_type": "code",
   "execution_count": null,
   "id": "b7a1049f-b47d-4319-b3ee-f20239e916d1",
   "metadata": {},
   "outputs": [],
   "source": [
    "Q.no 4- What is the correct extension of the python file?\n",
    "Ans- The extensions for Python files are - .py, .pyi, .pyc, .pyd, .pyo, .pyw, and .pyz."
   ]
  },
  {
   "cell_type": "code",
   "execution_count": null,
   "id": "e41e1ad0-250f-4a93-aee2-472cca70357d",
   "metadata": {},
   "outputs": [],
   "source": [
    "Q.no 5- Is Python code Compiled or interpreted?\n",
    "Ans- Python is the Interpreted programming Language.Python code are interpreted."
   ]
  },
  {
   "cell_type": "code",
   "execution_count": null,
   "id": "b013b0c0-91c5-4882-9f1c-d559cab718d9",
   "metadata": {},
   "outputs": [],
   "source": [
    "Q.no 6- Name a few blocks of code used to define in python language?\n",
    "Ans - Few Blocks of Code are a Module ,a Function body,and a class definition."
   ]
  },
  {
   "cell_type": "code",
   "execution_count": null,
   "id": "6c5b9237-b8b9-4971-ba83-7cf763246dbd",
   "metadata": {},
   "outputs": [],
   "source": [
    "Q.no 7-State a character used to give single line comments in python?\n",
    "Ans - Hashtag(#) is used to comment in single line comments in python."
   ]
  },
  {
   "cell_type": "code",
   "execution_count": null,
   "id": "1080df89-1f08-4b78-9946-20d2eeadb45f",
   "metadata": {},
   "outputs": [],
   "source": [
    "Q.no 8- Mention function which can help us to find the version of python that we are currently working on?\n",
    "Ans -The function sys.version can help us to find the version of python that we are currently working on."
   ]
  },
  {
   "cell_type": "code",
   "execution_count": null,
   "id": "dc085f12-30e8-43f1-bd99-be7ab1a7c325",
   "metadata": {},
   "outputs": [],
   "source": [
    "Q.no9- Python Support the creation of anonymous function at runtime, using a construct called  lambda."
   ]
  },
  {
   "cell_type": "code",
   "execution_count": null,
   "id": "52f588e0-c387-4fee-ab95-a112326cb62e",
   "metadata": {},
   "outputs": [],
   "source": [
    "Q.no 10- What does pip stand for python?\n",
    "Ans - pip stands for \"preferred installer program\"."
   ]
  },
  {
   "cell_type": "code",
   "execution_count": null,
   "id": "937c263b-b1fe-42a8-8490-1c2a33097b19",
   "metadata": {},
   "outputs": [],
   "source": [
    "Q.no 11- Mention a few build in functions in python?\n",
    "Ans - print( ) function, type( ) function,dir( ) function,input( ) function."
   ]
  },
  {
   "cell_type": "code",
   "execution_count": null,
   "id": "60c0ba3e-52ea-405c-9a85-284947a3b5a2",
   "metadata": {},
   "outputs": [],
   "source": [
    "Q.no 12-What is the maximum possible lenght of an identifier in python?\n",
    "Ans - 79 Characters."
   ]
  },
  {
   "cell_type": "code",
   "execution_count": null,
   "id": "ccfc4e7f-64d5-4301-a105-c7437f6c8875",
   "metadata": {},
   "outputs": [],
   "source": [
    "Q.no 13- What are the benefits of using python?\n",
    "Ans - Python is commonly used for developing websites and software, task automation, data analysis, and data visualization.\n",
    "Since it's relatively easy to learn, Python has been adopted by many non-programmers such as accountants and scientists,\n",
    "for a variety of everyday tasks, like organizing finances.\n",
    "Its simplicity is best for overcoming complex problems and make it the most popular choice for machine learning and data processing."
   ]
  },
  {
   "cell_type": "code",
   "execution_count": null,
   "id": "06f0bdc8-143f-43f9-9f5b-42af8280b695",
   "metadata": {},
   "outputs": [],
   "source": [
    "Q.no-14. How is memory managed in python?\n",
    "Ans- Memory in Python is managed by Python private heap space. \n",
    "All Python objects and data structures are located in a private heap. \n",
    "This private heap is taken care of by Python Interpreter itself, and a programmer doesn't have access to this private heap."
   ]
  },
  {
   "cell_type": "code",
   "execution_count": null,
   "id": "66540edc-5ad2-43f2-b691-3f10e1e16283",
   "metadata": {},
   "outputs": [],
   "source": [
    "Q.no-15 How to install python on windows and set path variables?\n",
    "Ans- In the section entitled User Variables, double-click on the entry that says Path. Another window will pop up showing \n",
    "a list of paths. Click the New button and paste the path to your Python executable there. Once that's inserted, select \n",
    "your newly added path and click the Move Up button until it's at the top."
   ]
  },
  {
   "cell_type": "code",
   "execution_count": null,
   "id": "009afc0b-73b6-4229-a2e7-c22f1e4019b8",
   "metadata": {},
   "outputs": [],
   "source": [
    "Q.no 16- Is indentation required in python?\n",
    "Ans- Indentation is mandatory in python to define the blocks of statements. It is preferred to use whitespaces \n",
    "instead of tabs to indent in python. Python uses four spaces as default indentation spaces."
   ]
  }
 ],
 "metadata": {
  "kernelspec": {
   "display_name": "Python 3 (ipykernel)",
   "language": "python",
   "name": "python3"
  },
  "language_info": {
   "codemirror_mode": {
    "name": "ipython",
    "version": 3
   },
   "file_extension": ".py",
   "mimetype": "text/x-python",
   "name": "python",
   "nbconvert_exporter": "python",
   "pygments_lexer": "ipython3",
   "version": "3.10.8"
  }
 },
 "nbformat": 4,
 "nbformat_minor": 5
}
